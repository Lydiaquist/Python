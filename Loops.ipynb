{
 "cells": [
  {
   "cell_type": "markdown",
   "id": "c981861e",
   "metadata": {},
   "source": [
    "# Q1\n",
    "Write a code to display a list of the first 12 multiples of 8 using a for loop\n"
   ]
  },
  {
   "cell_type": "code",
   "execution_count": 1,
   "id": "3f745721-30ea-4c9a-b4f3-2b0aedadd50b",
   "metadata": {},
   "outputs": [
    {
     "name": "stdout",
     "output_type": "stream",
     "text": [
      "8\n",
      "16\n",
      "24\n",
      "32\n",
      "40\n",
      "48\n",
      "56\n",
      "64\n",
      "72\n",
      "80\n",
      "88\n",
      "96\n"
     ]
    }
   ],
   "source": [
    "x=8\n",
    "for number in range(1,13) :\n",
    "    a=x*number\n",
    "    print(a)"
   ]
  },
  {
   "cell_type": "markdown",
   "id": "d9f7d0f9",
   "metadata": {},
   "source": [
    "# Q2\n",
    "Write the code to print sum of all even numbers from 1 to 201"
   ]
  },
  {
   "cell_type": "code",
   "execution_count": 14,
   "id": "fe60d0da-24e1-44ec-b9c2-d59aa90dbc11",
   "metadata": {},
   "outputs": [
    {
     "name": "stdout",
     "output_type": "stream",
     "text": [
      "The sum of the numbers is 10100\n"
     ]
    }
   ],
   "source": [
    "e_num = 0\n",
    "\n",
    "for i in range(1,202):\n",
    "    if i%2==0:\n",
    "       e_num += i \n",
    "print(f'The sum of the numbers is {e_num}')\n",
    "    \n",
    "        "
   ]
  },
  {
   "cell_type": "markdown",
   "id": "4f0f12d7",
   "metadata": {},
   "source": [
    "# Q3\n",
    "`my_list = [3, 5, 7, 12, 41]`\n",
    "\n",
    "Write the code to display the list of the squares of each number in my list\n",
    "\n",
    "- Without using list comprehension\n",
    "- Using list comprehension\n"
   ]
  },
  {
   "cell_type": "code",
   "execution_count": 2,
   "id": "d54e4236-3c47-4208-ba5c-6b645abc16e3",
   "metadata": {},
   "outputs": [
    {
     "name": "stdout",
     "output_type": "stream",
     "text": [
      "[9, 25, 49, 144, 1681]\n"
     ]
    }
   ],
   "source": [
    "## List comprehension\n",
    "my_list1 = [3,5,7,12,41]\n",
    "squares = [i**2 for i in my_list1]\n",
    "print(squares)"
   ]
  },
  {
   "cell_type": "code",
   "execution_count": 20,
   "id": "0fac888b-01c3-4473-9066-06c71c3fc82a",
   "metadata": {},
   "outputs": [
    {
     "name": "stdout",
     "output_type": "stream",
     "text": [
      "[9, 25, 49, 144, 1681]\n"
     ]
    }
   ],
   "source": [
    "## without list comprehension\n",
    "my_list = [3,5,7,12,41]\n",
    "square =[]\n",
    "for i in my_list :\n",
    "    square.append(i**2)\n",
    "print(square)\n",
    "    \n",
    "    "
   ]
  },
  {
   "cell_type": "markdown",
   "id": "28bed149",
   "metadata": {},
   "source": [
    "# Q4\n",
    "`my_list1 = [3, 53,47, 22, 53, 78, 12, 41]`\n",
    "\n",
    "Calculate the average of my_list1\n",
    "\n",
    "- Without using sum and len fucnctions\n",
    "- Using sum and len functions\n"
   ]
  },
  {
   "cell_type": "code",
   "execution_count": 17,
   "id": "e48dc7d8-8689-4cce-90a5-0f95f12913d5",
   "metadata": {},
   "outputs": [
    {
     "name": "stdout",
     "output_type": "stream",
     "text": [
      "38.625\n"
     ]
    }
   ],
   "source": [
    "## without using sum and len fxn\n",
    "my_list1= [3,53,47,22,53,78,12,41]\n",
    "import numpy as np\n",
    "average= np.mean(my_list1)\n",
    "print(average)"
   ]
  },
  {
   "cell_type": "code",
   "execution_count": 18,
   "id": "660a2c67-abd8-47fe-8884-d3d9afa84a92",
   "metadata": {},
   "outputs": [
    {
     "name": "stdout",
     "output_type": "stream",
     "text": [
      "38.625\n"
     ]
    }
   ],
   "source": [
    "## using sum and len fxn\n",
    "total = sum(my_list1)\n",
    "count = len(my_list1)\n",
    "average= total/count\n",
    "print(average)"
   ]
  },
  {
   "cell_type": "markdown",
   "id": "38c1ddff",
   "metadata": {},
   "source": [
    "# Q4\n",
    "\n",
    "Write a Python program to guess a number between 1 and 9.\n",
    "User is prompted to enter a guess. If the user guesses wrong then the prompt appears again until the guess is correct, on successful guess, user will get a \"Well guessed!\" message, and the program will exit."
   ]
  },
  {
   "cell_type": "code",
   "execution_count": 27,
   "id": "61625b24-35e1-4e6c-9aa3-7bf37806b64c",
   "metadata": {},
   "outputs": [
    {
     "name": "stdin",
     "output_type": "stream",
     "text": [
      "Guess a number between 1 and 9:  5\n"
     ]
    },
    {
     "name": "stdout",
     "output_type": "stream",
     "text": [
      "Try again!\n"
     ]
    },
    {
     "name": "stdin",
     "output_type": "stream",
     "text": [
      "Guess a number between 1 and 9:  8\n"
     ]
    },
    {
     "name": "stdout",
     "output_type": "stream",
     "text": [
      "Try again!\n"
     ]
    },
    {
     "name": "stdin",
     "output_type": "stream",
     "text": [
      "Guess a number between 1 and 9:  2\n"
     ]
    },
    {
     "name": "stdout",
     "output_type": "stream",
     "text": [
      "Try again!\n"
     ]
    },
    {
     "name": "stdin",
     "output_type": "stream",
     "text": [
      "Guess a number between 1 and 9:  6\n"
     ]
    },
    {
     "name": "stdout",
     "output_type": "stream",
     "text": [
      "Try again!\n"
     ]
    },
    {
     "name": "stdin",
     "output_type": "stream",
     "text": [
      "Guess a number between 1 and 9:  1\n"
     ]
    },
    {
     "name": "stdout",
     "output_type": "stream",
     "text": [
      "Try again!\n"
     ]
    },
    {
     "name": "stdin",
     "output_type": "stream",
     "text": [
      "Guess a number between 1 and 9:  3\n"
     ]
    },
    {
     "name": "stdout",
     "output_type": "stream",
     "text": [
      "Try again!\n"
     ]
    },
    {
     "name": "stdin",
     "output_type": "stream",
     "text": [
      "Guess a number between 1 and 9:  4\n"
     ]
    },
    {
     "name": "stdout",
     "output_type": "stream",
     "text": [
      "Try again!\n"
     ]
    },
    {
     "name": "stdin",
     "output_type": "stream",
     "text": [
      "Guess a number between 1 and 9:  7\n"
     ]
    },
    {
     "name": "stdout",
     "output_type": "stream",
     "text": [
      "Try again!\n"
     ]
    },
    {
     "name": "stdin",
     "output_type": "stream",
     "text": [
      "Guess a number between 1 and 9:  9\n"
     ]
    },
    {
     "name": "stdout",
     "output_type": "stream",
     "text": [
      "Well guessed!\n"
     ]
    }
   ],
   "source": [
    "import random\n",
    "number= random.randint(1,9)\n",
    "guess = None\n",
    "\n",
    "while guess!=number :\n",
    "    guess = int(input('Guess a number between 1 and 9: '))\n",
    "    if guess == number :\n",
    "        print('Well guessed!')\n",
    "    else:\n",
    "        print('Try again!')"
   ]
  },
  {
   "cell_type": "markdown",
   "id": "f5c02baa",
   "metadata": {},
   "source": [
    "# Q5\n",
    "Write a Python program to construct the following pattern.\n",
    "\n",
    "`*` \n",
    "\n",
    "`* *` \n",
    "\n",
    "`* * *` \n",
    "\n",
    "`* * * *` \n",
    "\n",
    "`* * * * *`"
   ]
  },
  {
   "cell_type": "code",
   "execution_count": 6,
   "id": "b992a7e0-b597-47e5-9f3f-38d841bb59c7",
   "metadata": {},
   "outputs": [
    {
     "name": "stdout",
     "output_type": "stream",
     "text": [
      "* \n",
      "* * \n",
      "* * * \n",
      "* * * * \n",
      "* * * * * \n"
     ]
    }
   ],
   "source": [
    "rows = 5\n",
    "for i in range(1, rows + 1):\n",
    "    print('* ' * i)\n"
   ]
  },
  {
   "cell_type": "markdown",
   "id": "e85d94df",
   "metadata": {},
   "source": [
    "# Q6\n",
    "\n",
    "Write a Python program that accepts a word from the user and reverses it."
   ]
  },
  {
   "cell_type": "code",
   "execution_count": 26,
   "id": "671393aa-1f44-4f97-96b2-d8d35eeee27c",
   "metadata": {},
   "outputs": [
    {
     "name": "stdin",
     "output_type": "stream",
     "text": [
      "Enter a word Lydia\n"
     ]
    },
    {
     "name": "stdout",
     "output_type": "stream",
     "text": [
      "Reversed word is aidyL\n"
     ]
    }
   ],
   "source": [
    "user_word = input('Enter a word')\n",
    "reversed_word = user_word[::-1]\n",
    "print(f'Reversed word is {reversed_word}')"
   ]
  },
  {
   "cell_type": "markdown",
   "id": "5fe06511",
   "metadata": {},
   "source": [
    "# Q7\n",
    "Write a Python program that accepts a word from the user and reverses it."
   ]
  },
  {
   "cell_type": "code",
   "execution_count": null,
   "id": "056fb0cc-80dd-420f-b42d-32c4a0886c7b",
   "metadata": {},
   "outputs": [],
   "source": []
  },
  {
   "cell_type": "markdown",
   "id": "5a99d4b3",
   "metadata": {},
   "source": [
    "# Q8\n",
    "\n",
    "`lst = [3,4,5,4,7,8,5,8,3,6,8,9,11]`\n",
    "\n",
    "Write a Python program to count the number of even and odd numbers in the above list of numbers.\n",
    "\n",
    "**Expected output should be in this format**\n",
    "\n",
    "{\"Even\" : num_of_even, \"Odd\": num_of_odd}"
   ]
  },
  {
   "cell_type": "code",
   "execution_count": 34,
   "id": "f05e49a0-3bf9-4f5c-b126-2b9d2f646a4a",
   "metadata": {},
   "outputs": [
    {
     "name": "stdout",
     "output_type": "stream",
     "text": [
      "{'Even': 6, 'Odd': 7}\n"
     ]
    }
   ],
   "source": [
    "lst = [3,4,5,4,7,8,5,8,3,6,8,9,11]\n",
    "even=0\n",
    "odd=0\n",
    "for i in lst:\n",
    "   if i%2 == 0:\n",
    "       even +=1\n",
    "   else:\n",
    "       odd+=1\n",
    "count={\"Even\": even ,\"Odd\" : odd}\n",
    "print(count)\n",
    "    "
   ]
  },
  {
   "cell_type": "markdown",
   "id": "c92b54f9",
   "metadata": {},
   "source": [
    "# Q9\n",
    " Write a Python program that iterates the integers from 1 to 50. For multiples of three print \"Fizz\" instead of the number and for multiples of five print \"Buzz\". For numbers that are multiples of three and five, print \"FizzBuzz\".\n",
    "Sample Output :\n",
    "1\n",
    "\n",
    "2\n",
    "\n",
    "fizz\n",
    "\n",
    "4\n",
    "\n",
    "buzz"
   ]
  },
  {
   "cell_type": "code",
   "execution_count": 13,
   "id": "20af6de5-08f9-4196-b3aa-01688dfda13e",
   "metadata": {},
   "outputs": [
    {
     "name": "stdout",
     "output_type": "stream",
     "text": [
      "1\n",
      "2\n",
      "Fizz\n",
      "4\n",
      "Buzz\n",
      "Fizz\n",
      "7\n",
      "8\n",
      "Fizz\n",
      "Buzz\n",
      "11\n",
      "Fizz\n",
      "13\n",
      "14\n",
      "FizzBuzz\n",
      "16\n",
      "17\n",
      "Fizz\n",
      "19\n",
      "Buzz\n",
      "Fizz\n",
      "22\n",
      "23\n",
      "Fizz\n",
      "Buzz\n",
      "26\n",
      "Fizz\n",
      "28\n",
      "29\n",
      "FizzBuzz\n",
      "31\n",
      "32\n",
      "Fizz\n",
      "34\n",
      "Buzz\n",
      "Fizz\n",
      "37\n",
      "38\n",
      "Fizz\n",
      "Buzz\n",
      "41\n",
      "Fizz\n",
      "43\n",
      "44\n",
      "FizzBuzz\n",
      "46\n",
      "47\n",
      "Fizz\n",
      "49\n",
      "Buzz\n"
     ]
    }
   ],
   "source": [
    "a= range(1,51)\n",
    "for i in a :\n",
    "    if i%3==0 and i%5==0:\n",
    "       print('FizzBuzz')\n",
    "    elif i%3==0:\n",
    "       print('Fizz')\n",
    "    elif i%5==0:\n",
    "       print('Buzz')\n",
    "    else:\n",
    "      print(i)\n",
    "\n"
   ]
  },
  {
   "cell_type": "markdown",
   "id": "8d3505cf",
   "metadata": {},
   "source": [
    "# Q10\n",
    " Write a Python program to find the median of three values inputs from the user"
   ]
  },
  {
   "cell_type": "code",
   "execution_count": 14,
   "id": "448a0021-1fcf-414b-91ac-a4ef52d5698b",
   "metadata": {},
   "outputs": [
    {
     "name": "stdin",
     "output_type": "stream",
     "text": [
      "Enter a number 3\n",
      "Enter a second number 5\n",
      "Enter a third nuber 9\n"
     ]
    },
    {
     "name": "stdout",
     "output_type": "stream",
     "text": [
      "The median is 5.0\n"
     ]
    }
   ],
   "source": [
    "def find_median(a,b,c):\n",
    "    sort_num = sorted([a,b,c])\n",
    "    return sort_num[1]\n",
    "## entering values\n",
    "num1 = float(input('Enter a number'))\n",
    "num2 = float(input('Enter a second number'))\n",
    "num3 = float(input('Enter a third nuber'))\n",
    "## finding median\n",
    "median= find_median(num1, num2, num3)\n",
    "print(f'The median is {median}')"
   ]
  },
  {
   "cell_type": "markdown",
   "id": "9ef4f8a2",
   "metadata": {},
   "source": [
    "# Q11\n",
    "Write a Python program to calculate the sum and average of n integer numbers (input from the user). Input 0 to finish."
   ]
  },
  {
   "cell_type": "code",
   "execution_count": null,
   "id": "cdea86f1-5e58-4d60-86d6-5913bf5fcc58",
   "metadata": {},
   "outputs": [
    {
     "name": "stdout",
     "output_type": "stream",
     "text": [
      "Enter integers to find their sum and average. Enter 0 to finish\n"
     ]
    }
   ],
   "source": [
    "total_sum = 0\n",
    "count = 0\n",
    "print('Enter integers to find their sum and average. Enter 0 to finish')\n",
    "\n",
    "while True:\n",
    "    number = int(input('Enter a number'))\n",
    "    if number== 0:\n",
    "        break\n",
    "        \n",
    "        total_sum += number\n",
    "        count += 1\n",
    "if count == 0:\n",
    "    print('No number was entered')\n",
    "else:\n",
    "    average = total_sum / count\n",
    "    print(f'The sum is {total_sum}')\n",
    "    print(f'The average is {average:.2f}')\n",
    "\n"
   ]
  },
  {
   "cell_type": "markdown",
   "id": "45f5c335",
   "metadata": {},
   "source": [
    "# Q12\n",
    " Write a Python program to create the multiplication table (from 1 to 12) of a number input from a user.\n",
    " \n",
    " Expected Output:\n",
    "\n",
    "Input a number: 6                                                       \n",
    "6 x 1 = 6                                                               \n",
    "6 x 2 = 12                                                              \n",
    "6 x 3 = 18                                                              \n",
    "6 x 4 = 24                                                              \n",
    "6 x 5 = 30                                                              \n",
    "6 x 6 = 36                                                              \n",
    "6 x 7 = 42                                                              \n",
    "6 x 8 = 48                                                              \n",
    "6 x 9 = 54                                                              \n",
    "6 x 10 = 60 \n",
    "\n",
    "6 x 11 = 66\n",
    "\n",
    "6 x 12 = 72"
   ]
  },
  {
   "cell_type": "code",
   "execution_count": 16,
   "id": "d75a43a2-6a24-449f-b790-8c85d70b7e91",
   "metadata": {},
   "outputs": [
    {
     "name": "stdin",
     "output_type": "stream",
     "text": [
      "Enter a number 6\n"
     ]
    },
    {
     "name": "stdout",
     "output_type": "stream",
     "text": [
      "6 * 1 = 2\n",
      "6 * 2 = 4\n",
      "6 * 3 = 6\n",
      "6 * 4 = 8\n",
      "6 * 5 = 10\n",
      "6 * 6 = 12\n",
      "6 * 7 = 14\n",
      "6 * 8 = 16\n",
      "6 * 9 = 18\n",
      "6 * 10 = 20\n",
      "6 * 11 = 22\n",
      "6 * 12 = 24\n"
     ]
    }
   ],
   "source": [
    "num_m = int(input('Enter a number'))\n",
    "\n",
    "for i in range(1,13):\n",
    "    product= number*i\n",
    "    print(f'{num_m} * {i} = {product}')"
   ]
  },
  {
   "cell_type": "markdown",
   "id": "8cc97048",
   "metadata": {},
   "source": [
    "# Q13\n",
    "Write a Python program to construct the following pattern\n",
    "\n",
    "1\n",
    "\n",
    "22\n",
    "\n",
    "333\n",
    "\n",
    "4444\n",
    "\n",
    "55555\n",
    "\n",
    "666666\n",
    "\n",
    "7777777\n",
    "\n",
    "88888888\n",
    "\n",
    "999999999"
   ]
  },
  {
   "cell_type": "code",
   "execution_count": 21,
   "id": "c64c1267-48ad-4d7e-b4fd-8684ece07dcf",
   "metadata": {},
   "outputs": [
    {
     "name": "stdout",
     "output_type": "stream",
     "text": [
      "1\n",
      "22\n",
      "333\n",
      "4444\n",
      "55555\n",
      "666666\n",
      "7777777\n",
      "88888888\n",
      "999999999\n"
     ]
    }
   ],
   "source": [
    "for i in range(1,10):\n",
    "    print(str(i)*i)"
   ]
  },
  {
   "cell_type": "markdown",
   "id": "adef967a",
   "metadata": {},
   "source": [
    "# Q14\n",
    "Print sum of all odd numbers from 10 to 50"
   ]
  },
  {
   "cell_type": "code",
   "execution_count": 22,
   "id": "77fddc73-1e54-48bb-bfdc-89f10f3ad149",
   "metadata": {},
   "outputs": [
    {
     "name": "stdout",
     "output_type": "stream",
     "text": [
      "The sum of the numbers is 600\n"
     ]
    }
   ],
   "source": [
    "odd_num= 0\n",
    "\n",
    "for i in range(10,51):\n",
    "    if i%2 !=0:\n",
    "        odd_num +=i\n",
    "print(f'The sum of the numbers is {odd_num}')\n",
    "        \n"
   ]
  },
  {
   "cell_type": "markdown",
   "id": "1642ec1a",
   "metadata": {},
   "source": [
    "# Q15\n",
    "\n",
    "`my_list = [25, 100, 121, 400, 81]`\n",
    "\n",
    "Write the code to display the list of the square root of each number in my list\n",
    "\n",
    "- Without using list comprehension\n",
    "- Using list comprehension"
   ]
  },
  {
   "cell_type": "code",
   "execution_count": 25,
   "id": "be3f0615",
   "metadata": {},
   "outputs": [
    {
     "name": "stdout",
     "output_type": "stream",
     "text": [
      "[5.0, 10.0, 11.0, 20.0, 9.0]\n"
     ]
    }
   ],
   "source": [
    "## without list comprehension\n",
    "my_list2 =[25,100,121,400,81]\n",
    "sqrt_list = []\n",
    "for i in my_list2:\n",
    "    sqrt_number = math.sqrt(i)\n",
    "    sqrt_list.append(sqrt_number)\n",
    "print(sqrt_list)"
   ]
  },
  {
   "cell_type": "code",
   "execution_count": 24,
   "id": "f51a638d-8f4c-4ae6-badf-c322796e40e5",
   "metadata": {},
   "outputs": [
    {
     "name": "stdout",
     "output_type": "stream",
     "text": [
      "[5.0, 10.0, 11.0, 20.0, 9.0]\n"
     ]
    }
   ],
   "source": [
    "import math\n",
    "my_list2 = [25,100,121,400,81]\n",
    "sqrt_num= [math.sqrt(i) for i in my_list2]\n",
    "print(sqrt_num)"
   ]
  },
  {
   "cell_type": "code",
   "execution_count": null,
   "id": "e94815ea-7ed9-4ac5-ad94-6187f33a63fb",
   "metadata": {},
   "outputs": [],
   "source": []
  }
 ],
 "metadata": {
  "kernelspec": {
   "display_name": "Python 3 (ipykernel)",
   "language": "python",
   "name": "python3"
  },
  "language_info": {
   "codemirror_mode": {
    "name": "ipython",
    "version": 3
   },
   "file_extension": ".py",
   "mimetype": "text/x-python",
   "name": "python",
   "nbconvert_exporter": "python",
   "pygments_lexer": "ipython3",
   "version": "3.11.7"
  }
 },
 "nbformat": 4,
 "nbformat_minor": 5
}
