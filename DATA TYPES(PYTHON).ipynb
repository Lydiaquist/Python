{
 "cells": [
  {
   "cell_type": "markdown",
   "id": "1971db0e",
   "metadata": {},
   "source": [
    "### Q1\n",
    "List the basic data types in python and give one example each."
   ]
  },
  {
   "cell_type": "markdown",
   "id": "c7fce7cb",
   "metadata": {},
   "source": [
    "### Data Types  \n",
    "string - 'Amanda'  \n",
    "float - 5.4  \n",
    "integer - 4  \n",
    "boolean - True  "
   ]
  },
  {
   "cell_type": "markdown",
   "id": "4a2be5ba",
   "metadata": {},
   "source": [
    "### Q2\n",
    "Change the variable x = 4539.85 to :\n",
    "\n",
    "(i) a string and assign it to a new variable y,\n",
    "\n",
    "(ii) an integer and assign it to a new variable z\n",
    "\n",
    "Print out the type of y and z."
   ]
  },
  {
   "cell_type": "code",
   "execution_count": 3,
   "id": "4f69aaca",
   "metadata": {},
   "outputs": [
    {
     "data": {
      "text/plain": [
       "str"
      ]
     },
     "execution_count": 3,
     "metadata": {},
     "output_type": "execute_result"
    }
   ],
   "source": [
    "x = 4539.85\n",
    "y = str(x)\n",
    "type(y)"
   ]
  },
  {
   "cell_type": "code",
   "execution_count": 4,
   "id": "67695db7",
   "metadata": {},
   "outputs": [
    {
     "data": {
      "text/plain": [
       "int"
      ]
     },
     "execution_count": 4,
     "metadata": {},
     "output_type": "execute_result"
    }
   ],
   "source": [
    "z = int(x)\n",
    "type(z)"
   ]
  },
  {
   "cell_type": "markdown",
   "id": "81a1251c",
   "metadata": {},
   "source": [
    "### Q3\n",
    "\n",
    "What data type would you use to store\n",
    "\n",
    "a. The price of car?\n",
    "\n",
    "b. The age of a person\n",
    "\n",
    "c. car plate number: plateNumber = \"AV01-AFP\"?\n",
    "\n",
    "d. The price of fuel\n",
    "\n",
    "e. The number of students in the class\n",
    "\n",
    "f. The weight of a person\n",
    "\n",
    "g. Check whether two figures are equal\n",
    "\n",
    "i. The name of a  school\n",
    "\n",
    "j. The average result of the overall score of a student\n",
    "\n",
    "k. The total number of vote cast\n",
    "\n"
   ]
  },
  {
   "cell_type": "markdown",
   "id": "cfaa8c33",
   "metadata": {},
   "source": [
    "a - float  \n",
    "b - integer  \n",
    "c - string  \n",
    "d - float  \n",
    "e - integer  \n",
    "f - float  \n",
    "g - bool  \n",
    "i - string  \n",
    "j - float  \n",
    "k - integer\n"
   ]
  },
  {
   "cell_type": "markdown",
   "id": "f0694362",
   "metadata": {},
   "source": [
    "### Q4\n",
    "**Thomas Partey is arguably the best player in the Black Stars. He is a great addition to the team**\n",
    "\n",
    "Split the statement above into **two statement_1** and **statement_2** such that statement_1 will be 'Thomas Partey is arguably the best player in the Black Stars' and statement_2 will be 'He is a great addition to the team'\n",
    "\n",
    "Statement:\n",
    "\n",
    "- **What is the length of statment 1?**\n",
    "-**What is the length of statment 2?**\n",
    "-**Is the length of statement 1 greater than statement 2**"
   ]
  },
  {
   "cell_type": "code",
   "execution_count": 12,
   "id": "dc7c25c8",
   "metadata": {},
   "outputs": [
    {
     "name": "stdout",
     "output_type": "stream",
     "text": [
      "The length of statement_1 is 60\n",
      "The length of statement_2 is 34\n"
     ]
    }
   ],
   "source": [
    "statement_1 = 'Thomas Partey is arguably the best player in the Black Stars'\n",
    "statement_2 = 'He is a great addition to the team'\n",
    "print('The length of statement_1 is', len(statement_1))\n",
    "print('The length of statement_2 is', len(statement_2))"
   ]
  },
  {
   "cell_type": "code",
   "execution_count": 15,
   "id": "fc4c66f5",
   "metadata": {},
   "outputs": [
    {
     "data": {
      "text/plain": [
       "True"
      ]
     },
     "execution_count": 15,
     "metadata": {},
     "output_type": "execute_result"
    }
   ],
   "source": [
    "len(statement_1) > len(statement_2) "
   ]
  },
  {
   "cell_type": "markdown",
   "id": "d366317d",
   "metadata": {},
   "source": [
    "the length of statement_1 is greater than the length of statement_2"
   ]
  },
  {
   "cell_type": "markdown",
   "id": "ceb46447",
   "metadata": {},
   "source": [
    "### Q5\n",
    "What values does python use to represent **True** and **False** respectively?"
   ]
  },
  {
   "cell_type": "markdown",
   "id": "4f3a4254",
   "metadata": {},
   "source": [
    "True == bool(1)  \n",
    "False == bool(0)"
   ]
  },
  {
   "cell_type": "markdown",
   "id": "e4cc9b15",
   "metadata": {},
   "source": [
    "### Q6\n",
    "Write a code to evaluate if the following statments are True or False.\n",
    "\n",
    "1. 78 is greater than 46 and less than 30 which is an odd number.\n",
    "\n",
    "2. 8-2 is an even number or 8 is a is an odd number.\n",
    "\n",
    "3. The number of characters in the word 'boostrap' is 7 and that of 'sample' is 6."
   ]
  },
  {
   "cell_type": "markdown",
   "id": "d8f41ad7",
   "metadata": {},
   "source": [
    "Q6.1"
   ]
  },
  {
   "cell_type": "code",
   "execution_count": 20,
   "id": "2b5466cf",
   "metadata": {},
   "outputs": [
    {
     "name": "stdout",
     "output_type": "stream",
     "text": [
      "True\n"
     ]
    }
   ],
   "source": [
    "num_1 = 78\n",
    "num_2 = 46\n",
    "num_3 = 30\n",
    "(num_1 > num_2) and (num_1 < num_2)\n",
    "r = num_1 % 2 != 0\n",
    "print(r)\n"
   ]
  },
  {
   "cell_type": "markdown",
   "id": "5a0a17bf",
   "metadata": {},
   "source": [
    " Q6.2"
   ]
  },
  {
   "cell_type": "code",
   "execution_count": 21,
   "id": "e8ab39e8",
   "metadata": {},
   "outputs": [
    {
     "data": {
      "text/plain": [
       "True"
      ]
     },
     "execution_count": 21,
     "metadata": {},
     "output_type": "execute_result"
    }
   ],
   "source": [
    "num_4 = 8-2\n",
    "num_5 = 8\n",
    "(num_4 % 2 == 0 ) or (num_5 % 2 != 0)"
   ]
  },
  {
   "cell_type": "markdown",
   "id": "d3a5d9d5",
   "metadata": {},
   "source": [
    "Q6.3"
   ]
  },
  {
   "cell_type": "code",
   "execution_count": 23,
   "id": "c2fbefaf",
   "metadata": {},
   "outputs": [
    {
     "data": {
      "text/plain": [
       "False"
      ]
     },
     "execution_count": 23,
     "metadata": {},
     "output_type": "execute_result"
    }
   ],
   "source": [
    "num_6 = len('boostrap')\n",
    "num_7 = len('sample')\n",
    "(num_6 == 7) and (num_7 == 6)"
   ]
  },
  {
   "cell_type": "markdown",
   "id": "bc13f9fc",
   "metadata": {},
   "source": [
    "### Q7\n",
    "Given the following python code,\n",
    "\n",
    "`word='Hello, How are you?'`\n",
    "\n",
    "Write Python code to return the following\n",
    "\n",
    "- How\n",
    "- How are you\n",
    "- are\n",
    "- ?\n",
    "- Hello, How are you\n",
    "\n",
    " "
   ]
  },
  {
   "cell_type": "code",
   "execution_count": 33,
   "id": "21a5e351",
   "metadata": {},
   "outputs": [],
   "source": [
    "word='Hello, How are you?'"
   ]
  },
  {
   "cell_type": "code",
   "execution_count": 24,
   "id": "5e431940",
   "metadata": {},
   "outputs": [
    {
     "name": "stdout",
     "output_type": "stream",
     "text": [
      "['How', 'How are you', 'are', '?', 'Hello, How are you']\n"
     ]
    }
   ],
   "source": [
    "words = ['How', 'How are you', 'are', '?', 'Hello, How are you']\n",
    "print(words)"
   ]
  },
  {
   "cell_type": "markdown",
   "id": "e0ca25e4",
   "metadata": {},
   "source": [
    "Option one"
   ]
  },
  {
   "cell_type": "code",
   "execution_count": 31,
   "id": "2847bae5",
   "metadata": {},
   "outputs": [
    {
     "name": "stdout",
     "output_type": "stream",
     "text": [
      "How\n",
      "How are you\n",
      "are\n",
      "?\n",
      "Hello, How are you\n"
     ]
    }
   ],
   "source": [
    "print(words[0])\n",
    "print(words[1])\n",
    "print(words[2])\n",
    "print(words[3])\n",
    "print(words[4])\n",
    " "
   ]
  },
  {
   "cell_type": "markdown",
   "id": "68c6965a",
   "metadata": {},
   "source": [
    "Option two"
   ]
  },
  {
   "cell_type": "code",
   "execution_count": 38,
   "id": "e2c8bb09",
   "metadata": {},
   "outputs": [
    {
     "name": "stdout",
     "output_type": "stream",
     "text": [
      "How\n",
      "How are you\n",
      "are\n",
      "?\n",
      "Hello, How are you\n"
     ]
    }
   ],
   "source": [
    "b = word[7:10]\n",
    "d = word[7:18]\n",
    "t = word[11:14]\n",
    "e = word[18:]\n",
    "p = word[0:18]\n",
    "print(b)\n",
    "print(d)\n",
    "print(t)\n",
    "print(e)\n",
    "print(p)"
   ]
  },
  {
   "cell_type": "markdown",
   "id": "e4167de5",
   "metadata": {},
   "source": [
    "### Q8\n",
    "Given the following python code,\n",
    "\n",
    "`sentence = \"I am very excited\"`\n",
    "\n",
    "Write Python code to return \n",
    "- Convert sentence to upper case\n",
    "- Convert sentence to lower case\n",
    "- Convert sentence to title case\n",
    "- Convert sentence to list of strings\n",
    " "
   ]
  },
  {
   "cell_type": "code",
   "execution_count": 29,
   "id": "3a9f0806",
   "metadata": {},
   "outputs": [
    {
     "name": "stdout",
     "output_type": "stream",
     "text": [
      "I AM VERY EXCITED\n",
      "i am very excited\n",
      "I Am Very Excited\n",
      "['I', 'am', 'very', 'excited']\n"
     ]
    }
   ],
   "source": [
    "sentence = 'I am very excited'\n",
    "sentence_1 = sentence.upper()\n",
    "sentence_2 = sentence.lower()\n",
    "sentence_3 = sentence.title()\n",
    "sentence_string = sentence.split()\n",
    "print(sentence_1)\n",
    "print(sentence_2)\n",
    "print(sentence_3)\n",
    "print(sentence_string)"
   ]
  },
  {
   "cell_type": "markdown",
   "id": "4faf0134",
   "metadata": {},
   "source": [
    "### Q9\n",
    "`word = 'OneThirtyEight'`\n",
    "\n",
    "Using Python code extract the following from the variable word:\n",
    "- One\n",
    "- Thirty\n",
    "- Eight\n",
    "- OneThirty\n",
    "- ThirtyEight\n",
    "- ONETHIRTYEIGHT"
   ]
  },
  {
   "cell_type": "code",
   "execution_count": 42,
   "id": "d47aebf9",
   "metadata": {},
   "outputs": [],
   "source": [
    "word_1 = 'OneThirtyEight'"
   ]
  },
  {
   "cell_type": "code",
   "execution_count": 43,
   "id": "70abe4e5",
   "metadata": {},
   "outputs": [
    {
     "name": "stdout",
     "output_type": "stream",
     "text": [
      "One\n",
      "Thirty\n",
      "Eight\n",
      "OneThirty\n",
      "ThirtyEight\n",
      "ONETHIRTYEIGHT\n"
     ]
    }
   ],
   "source": [
    "substring_1 = word_1[:3]\n",
    "print(substring_1)\n",
    "substring_2 = word_1[3:9]\n",
    "print(substring_2)\n",
    "substring_3 = word_1[9:]\n",
    "print(substring_3)\n",
    "substring_4 = word_1[:9]\n",
    "print(substring_4)\n",
    "substring_5 = word_1[3:]\n",
    "print(substring_5)\n",
    "new_word = word_1.upper()\n",
    "print(new_word)"
   ]
  },
  {
   "cell_type": "markdown",
   "id": "2a4eea1f",
   "metadata": {},
   "source": [
    "### Q10\n",
    "Turn Ault'Kelly into a string and assign it to a variable  called name."
   ]
  },
  {
   "cell_type": "code",
   "execution_count": 45,
   "id": "aa2f0a08",
   "metadata": {},
   "outputs": [
    {
     "data": {
      "text/plain": [
       "str"
      ]
     },
     "execution_count": 45,
     "metadata": {},
     "output_type": "execute_result"
    }
   ],
   "source": [
    "name = \"Ault'Kelly\"\n",
    "type(name)"
   ]
  }
 ],
 "metadata": {
  "kernelspec": {
   "display_name": "Python 3 (ipykernel)",
   "language": "python",
   "name": "python3"
  },
  "language_info": {
   "codemirror_mode": {
    "name": "ipython",
    "version": 3
   },
   "file_extension": ".py",
   "mimetype": "text/x-python",
   "name": "python",
   "nbconvert_exporter": "python",
   "pygments_lexer": "ipython3",
   "version": "3.11.7"
  }
 },
 "nbformat": 4,
 "nbformat_minor": 5
}
