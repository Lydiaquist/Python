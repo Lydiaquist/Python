{
 "cells": [
  {
   "cell_type": "markdown",
   "id": "352dd2e3",
   "metadata": {},
   "source": [
    "### Q1\n",
    "\n",
    "Define a python function that calculate the perimeter of the rectangle\n",
    "\n",
    "Formular\n",
    "\n",
    "formular => 2 X length + 2 X Width"
   ]
  },
  {
   "cell_type": "code",
   "execution_count": null,
   "id": "ae486bb3",
   "metadata": {},
   "outputs": [],
   "source": [
    "def calculate_perimeter(length, width):\n",
    "    \"\"\"\n",
    "    Calculate the perimeter of a rectangle.\n",
    "\n",
    "    Parameters:\n",
    "    length (float): The length of the rectangle.\n",
    "    width (float): The width of the rectangle.\n",
    "\n",
    "    Returns:\n",
    "    float: The perimeter of the rectangle.\n",
    "    \"\"\"\n",
    "    perimeter = 2 * length + 2 * width\n",
    "    return perimeter\n"
   ]
  },
  {
   "cell_type": "markdown",
   "id": "a56ccec8",
   "metadata": {},
   "source": [
    "### Q2\n",
    "Define the function to calculate the area of a circle. Round the answer to 3 decimal places.\n",
    "\n",
    "**Preamble**\n",
    " - Take pi as 22/7\n",
    " - formular pi x r ** 2"
   ]
  },
  {
   "cell_type": "code",
   "execution_count": null,
   "id": "f73ed423",
   "metadata": {},
   "outputs": [],
   "source": [
    "def calculate_circle_area(radius):\n",
    "    \"\"\"\n",
    "    Calculate the area of a circle.\n",
    "\n",
    "    Parameters:\n",
    "    radius (float): The radius of the circle.\n",
    "\n",
    "    Returns:\n",
    "    float: The area of the circle, rounded to 3 decimal places.\n",
    "    \"\"\"\n",
    "    pi = 22 / 7\n",
    "    area = pi * radius ** 2\n",
    "    return round(area, 3)\n"
   ]
  },
  {
   "cell_type": "markdown",
   "id": "be5a6965",
   "metadata": {},
   "source": [
    "### Q3\n",
    "Define a function that takes a list of numbers and print out the **mean**, **median** and **mode**.\n",
    "\n",
    "- Test your function with the list b\n",
    "\n",
    "`b = [2,3,4,6,7,3,4,3,2,1,3]`"
   ]
  },
  {
   "cell_type": "code",
   "execution_count": null,
   "id": "3d62f045",
   "metadata": {},
   "outputs": [],
   "source": [
    "import statistics\n",
    "\n",
    "def calculate_statistics(numbers):\n",
    "    \"\"\"\n",
    "    Calculate and print the mean, median, and mode of a list of numbers.\n",
    "\n",
    "    Parameters:\n",
    "    numbers (list): A list of numbers.\n",
    "    \"\"\"\n",
    "    mean = statistics.mean(numbers)\n",
    "    median = statistics.median(numbers)\n",
    "    try:\n",
    "        mode = statistics.mode(numbers)\n",
    "    except statistics.StatisticsError:\n",
    "        mode = \"No unique mode\"\n",
    "    \n",
    "    print(f\"Mean: {mean}\")\n",
    "    print(f\"Median: {median}\")\n",
    "    print(f\"Mode: {mode}\")\n",
    "\n",
    "# Test the function with the list b\n",
    "b = [2, 3, 4, 6, 7, 3, 4, 3, 2, 1, 3]\n",
    "calculate_statistics(b)\n"
   ]
  },
  {
   "cell_type": "markdown",
   "id": "3313ab10",
   "metadata": {},
   "source": [
    "### Q4\n",
    "Define a function that prints out the list of the first 20 prime numbers"
   ]
  },
  {
   "cell_type": "code",
   "execution_count": 1,
   "id": "3a003fb6",
   "metadata": {},
   "outputs": [
    {
     "name": "stdout",
     "output_type": "stream",
     "text": [
      "The first 20 prime numbers are:\n",
      "[2, 3, 5, 7, 11, 13, 17, 19, 23, 29, 31, 37, 41, 43, 47, 53, 59, 61, 67, 71]\n"
     ]
    }
   ],
   "source": [
    "def is_prime(n):\n",
    "    \"\"\"\n",
    "    Check if a number is prime.\n",
    "\n",
    "    Parameters:\n",
    "    n (int): The number to check.\n",
    "\n",
    "    Returns:\n",
    "    bool: True if the number is prime, False otherwise.\n",
    "    \"\"\"\n",
    "    if n <= 1:\n",
    "        return False\n",
    "    if n == 2:\n",
    "        return True\n",
    "    if n % 2 == 0:\n",
    "        return False\n",
    "    for i in range(3, int(n**0.5) + 1, 2):\n",
    "        if n % i == 0:\n",
    "            return False\n",
    "    return True\n",
    "\n",
    "def first_20_primes():\n",
    "    \"\"\"\n",
    "    Print the first 20 prime numbers.\n",
    "\n",
    "    Returns:\n",
    "    None\n",
    "    \"\"\"\n",
    "    primes = []\n",
    "    num = 2  # Start checking from the first prime number\n",
    "    \n",
    "    while len(primes) < 20:\n",
    "        if is_prime(num):\n",
    "            primes.append(num)\n",
    "        num += 1\n",
    "    \n",
    "    print(\"The first 20 prime numbers are:\")\n",
    "    print(primes)\n",
    "\n",
    "# Example usage\n",
    "first_20_primes()\n"
   ]
  },
  {
   "cell_type": "markdown",
   "id": "ef1c5863",
   "metadata": {},
   "source": [
    "#### Q5\n",
    "Define a function that takes a list of strings and print out the string and the length of the string.\n",
    "\n",
    "**Example of expected output**\n",
    "\n",
    "{\"Kofi\":4,\n",
    "\"Ama\":3,\n",
    "\"Sedem\":5}"
   ]
  },
  {
   "cell_type": "code",
   "execution_count": null,
   "id": "e7327653",
   "metadata": {},
   "outputs": [],
   "source": [
    "def print_string_lengths(string_list):\n",
    "    \"\"\"\n",
    "    Print each string in a list along with its length.\n",
    "\n",
    "    Parameters:\n",
    "    string_list (list): A list of strings.\n",
    "\n",
    "    Returns:\n",
    "    None\n",
    "    \"\"\"\n",
    "    result = {}\n",
    "    for string in string_list:\n",
    "        result[string] = len(string)\n",
    "    print(result)\n",
    "\n",
    "# Example usage\n",
    "string_list = [\"Kofi\", \"Ama\", \"Sedem\"]\n",
    "print_string_lengths(string_list)\n"
   ]
  },
  {
   "cell_type": "markdown",
   "id": "5072c8d8",
   "metadata": {},
   "source": [
    "### Q6\n",
    "Define a function that takes a list of strings and numbers and print out only the strings and the position of the strings.\n",
    "\n",
    "**Preamble**\n",
    "\n",
    "names = ['sedem', 'Kofi', 'kobla']\n",
    "\n",
    "**Expected Output**\n",
    "\n",
    "{'sedem': P0, 'Kofi': P1, 'kobla': P2}"
   ]
  },
  {
   "cell_type": "code",
   "execution_count": null,
   "id": "88f8f94f",
   "metadata": {},
   "outputs": [],
   "source": [
    "def print_string_positions(string_list):\n",
    "    \"\"\"\n",
    "    Print each string in a list along with its position.\n",
    "\n",
    "    Parameters:\n",
    "    string_list (list): A list of strings.\n",
    "\n",
    "    Returns:\n",
    "    None\n",
    "    \"\"\"\n",
    "    result = {}\n",
    "    for index, string in enumerate(string_list):\n",
    "        result[string] = f'P{index}'\n",
    "    print(result)\n",
    "\n",
    "# Example usage\n",
    "names = ['sedem', 'Kofi', 'kobla']\n",
    "print_string_positions(names)\n"
   ]
  },
  {
   "cell_type": "markdown",
   "id": "5593b665",
   "metadata": {},
   "source": [
    "### Q7\n",
    "Define a function that returns whether the sum of a person age and person's date of birth equals 2023\n",
    "\n",
    "**Preamble**\n",
    "\n",
    "2001 + 22 => True\n",
    "\n",
    "2002 + 5 => False"
   ]
  },
  {
   "cell_type": "code",
   "execution_count": null,
   "id": "19d32c73",
   "metadata": {},
   "outputs": [],
   "source": [
    "def is_sum_2023(date_of_birth, age):\n",
    "    \"\"\"\n",
    "    Check if the sum of a person's date of birth and age equals 2023.\n",
    "\n",
    "    Parameters:\n",
    "    date_of_birth (int): The person's date of birth.\n",
    "    age (int): The person's age.\n",
    "\n",
    "    Returns:\n",
    "    bool: True if the sum equals 2023, False otherwise.\n",
    "    \"\"\"\n",
    "    return date_of_birth + age == 2023\n",
    "\n",
    "# Example usage\n",
    "print(is_sum_2023(2001, 22))  # True\n",
    "print(is_sum_2023(2002, 5))    # False\n"
   ]
  },
  {
   "cell_type": "markdown",
   "id": "f831e652",
   "metadata": {},
   "source": [
    "### Q8\n",
    "Define a function that determine whether a particular year is a **decade**, the output should be a boolean (True or False)\n"
   ]
  },
  {
   "cell_type": "code",
   "execution_count": null,
   "id": "90870d9e",
   "metadata": {},
   "outputs": [],
   "source": [
    "def is_start_of_decade(year):\n",
    "    \"\"\"\n",
    "    Determine whether a particular year is the start of a decade.\n",
    "\n",
    "    Parameters:\n",
    "    year (int): The year to check.\n",
    "\n",
    "    Returns:\n",
    "    bool: True if the year is the start of a decade, False otherwise.\n",
    "    \"\"\"\n",
    "    return year % 10 == 0\n",
    "\n",
    "# Example usage\n",
    "print(is_start_of_decade(2020))  # True\n",
    "print(is_start_of_decade(2021))  # False\n",
    "print(is_start_of_decade(2000))  # True\n",
    "print(is_start_of_decade(1999))  # False\n"
   ]
  },
  {
   "cell_type": "markdown",
   "id": "211c19e3",
   "metadata": {},
   "source": [
    "### Q9\n",
    "Define a function that contains a list of strings and punctuations,the output should on return the list of punctuations.\n"
   ]
  },
  {
   "cell_type": "code",
   "execution_count": null,
   "id": "c1d221d1",
   "metadata": {},
   "outputs": [],
   "source": [
    "def extract_punctuations(input_list):\n",
    "    \"\"\"\n",
    "    Extract and return a list of punctuations from the input list.\n",
    "\n",
    "    Parameters:\n",
    "    input_list (list): A list containing strings and punctuations.\n",
    "\n",
    "    Returns:\n",
    "    list: A list containing only the punctuations from the input list.\n",
    "    \"\"\"\n",
    "    punctuations = ['.', ',', '!', '?', ';', ':', '-', '(', ')', '[', ']', '{', '}', \"'\", '\"', '/', '\\\\', '|', '@', '#', '$', '%', '^', '&', '*', '_', '+', '=', '`', '~']\n",
    "    result = [item for item in input_list if item in punctuations]\n",
    "    return result\n",
    "\n",
    "# Example usage\n",
    "input_list = ['Hello', 'world', '!', 'This', 'is', 'a', 'test', ',', 'with', 'punctuations', '.']\n",
    "print(extract_punctuations(input_list))\n"
   ]
  },
  {
   "cell_type": "markdown",
   "id": "34bae9ec",
   "metadata": {},
   "source": [
    "### Q10\n",
    "\n",
    "Define a lambda function that print out the cubic root of a list of numbers"
   ]
  },
  {
   "cell_type": "code",
   "execution_count": null,
   "id": "92028608",
   "metadata": {},
   "outputs": [],
   "source": [
    "# Define the lambda function to calculate the cubic root\n",
    "cubic_root = lambda x: x ** (1/3)\n",
    "\n",
    "# Function to apply the lambda function to a list of numbers and print the results\n",
    "def print_cubic_roots(numbers):\n",
    "    cubic_roots = list(map(cubic_root, numbers))\n",
    "    for number, root in zip(numbers, cubic_roots):\n",
    "        print(f\"The cubic root of {number} is {root}\")\n",
    "\n",
    "# Example usage\n",
    "numbers = [1, 8, 27, 64, 125]\n",
    "print_cubic_roots(numbers)\n"
   ]
  },
  {
   "cell_type": "markdown",
   "id": "37974632",
   "metadata": {},
   "source": [
    "### Q11\n",
    "Define a lambda function that print out the cube of a list of numbers"
   ]
  },
  {
   "cell_type": "code",
   "execution_count": null,
   "id": "5388d5be",
   "metadata": {},
   "outputs": [],
   "source": [
    "# Define the lambda function to calculate the cube\n",
    "cube = lambda x: x ** 3\n",
    "\n",
    "# Function to apply the lambda function to a list of numbers and print the results\n",
    "def print_cubes(numbers):\n",
    "    cubes = list(map(cube, numbers))\n",
    "    for number, cube_value in zip(numbers, cubes):\n",
    "        print(f\"The cube of {number} is {cube_value}\")\n",
    "\n",
    "# Example usage\n",
    "numbers = [1, 2, 3, 4, 5]\n",
    "print_cubes(numbers)\n"
   ]
  },
  {
   "cell_type": "markdown",
   "id": "b1522dbb",
   "metadata": {},
   "source": [
    "### Q12\n",
    "Define a function that take a list of list of numbers and return a list that contains the average of each sublist using map."
   ]
  },
  {
   "cell_type": "code",
   "execution_count": null,
   "id": "62fda4b2",
   "metadata": {},
   "outputs": [],
   "source": [
    "def average_of_sublists(list_of_lists):\n",
    "    \"\"\"\n",
    "    Calculate the average of each sublist in a list of lists.\n",
    "\n",
    "    Parameters:\n",
    "    list_of_lists (list of list of numbers): The input list containing sublists of numbers.\n",
    "\n",
    "    Returns:\n",
    "    list: A list containing the average of each sublist.\n",
    "    \"\"\"\n",
    "    # Define a lambda function to calculate the average of a list\n",
    "    average = lambda x: sum(x) / len(x) if len(x) > 0 else 0\n",
    "    \n",
    "    # Use map to apply the average lambda function to each sublist\n",
    "    averages = list(map(average, list_of_lists))\n",
    "    \n",
    "    return averages\n",
    "\n",
    "# Example usage\n",
    "list_of_lists = [\n",
    "    [1, 2, 3, 4],\n",
    "    [5, 6, 7, 8],\n",
    "    [9, 10, 11, 12],\n",
    "    [13, 14, 15, 16]\n",
    "]\n",
    "print(average_of_sublists(list_of_lists))\n"
   ]
  },
  {
   "cell_type": "markdown",
   "id": "0fd5cd06",
   "metadata": {},
   "source": [
    "### Q13\n",
    "Define a function that takes a list of strings and filter out strings that are upper case."
   ]
  },
  {
   "cell_type": "code",
   "execution_count": null,
   "id": "55aef404",
   "metadata": {},
   "outputs": [],
   "source": [
    "def filter_uppercase_strings(strings):\n",
    "    \"\"\"\n",
    "    Filter out strings that are in uppercase from a list of strings.\n",
    "\n",
    "    Parameters:\n",
    "    strings (list): A list of strings.\n",
    "\n",
    "    Returns:\n",
    "    list: A list containing only the strings that are not in uppercase.\n",
    "    \"\"\"\n",
    "    # Use list comprehension to filter out uppercase strings\n",
    "    filtered_strings = [s for s in strings if not s.isupper()]\n",
    "    return filtered_strings\n",
    "\n",
    "# Example usage\n",
    "strings = ['Hello', 'WORLD', 'Python', 'PROGRAMMING', 'code']\n",
    "filtered = filter_uppercase_strings(strings)\n",
    "print(filtered)\n"
   ]
  },
  {
   "cell_type": "markdown",
   "id": "d0dddd17",
   "metadata": {},
   "source": [
    "### Q14\n",
    "Define a function that takes a list of numbers and print out the numbers which are prime in the list."
   ]
  },
  {
   "cell_type": "code",
   "execution_count": null,
   "id": "bf6838db",
   "metadata": {},
   "outputs": [],
   "source": [
    "def is_prime(n):\n",
    "    \"\"\"\n",
    "    Check if a number is prime.\n",
    "\n",
    "    Parameters:\n",
    "    n (int): The number to check.\n",
    "\n",
    "    Returns:\n",
    "    bool: True if the number is prime, False otherwise.\n",
    "    \"\"\"\n",
    "    if n <= 1:\n",
    "        return False\n",
    "    if n == 2:\n",
    "        return True\n",
    "    if n % 2 == 0:\n",
    "        return False\n",
    "    for i in range(3, int(n**0.5) + 1, 2):\n",
    "        if n % i == 0:\n",
    "            return False\n",
    "    return True\n",
    "\n",
    "def print_prime_numbers(numbers):\n",
    "    \"\"\"\n",
    "    Print the prime numbers from a list of numbers.\n",
    "\n",
    "    Parameters:\n",
    "    numbers (list): A list of numbers.\n",
    "\n",
    "    Returns:\n",
    "    None\n",
    "    \"\"\"\n",
    "    primes = [num for num in numbers if is_prime(num)]\n",
    "    print(\"Prime numbers in the list:\", primes)\n",
    "\n",
    "# Example usage\n",
    "numbers = [2, 3, 4, 5, 6, 7, 8, 9, 10, 11, 13, 14, 15, 17, 19]\n",
    "print_prime_numbers(numbers)\n"
   ]
  },
  {
   "cell_type": "markdown",
   "id": "240741dc",
   "metadata": {},
   "source": [
    "### Q15\n",
    "Define a function that take a list of strings and return a zip of each string and length of a string."
   ]
  },
  {
   "cell_type": "code",
   "execution_count": null,
   "id": "8f45c8c4",
   "metadata": {},
   "outputs": [],
   "source": [
    "def zip_strings_and_lengths(strings):\n",
    "    \"\"\"\n",
    "    Return a zip of each string and its length.\n",
    "\n",
    "    Parameters:\n",
    "    strings (list): A list of strings.\n",
    "\n",
    "    Returns:\n",
    "    zip: A zip object containing tuples of each string and its length.\n",
    "    \"\"\"\n",
    "    return zip(strings, map(len, strings))\n",
    "\n",
    "# Example usage\n",
    "strings = ['Hello', 'world', 'Python', 'Programming']\n",
    "result = zip_strings_and_lengths(strings)\n",
    "\n",
    "# Convert the zip object to a list to print the result\n",
    "print(list(result))\n"
   ]
  },
  {
   "cell_type": "markdown",
   "id": "44a1339f",
   "metadata": {},
   "source": [
    "### Q16\n",
    "Define a function that takes in a number and return the first 12 multiples of the the number.\n",
    "\n",
    "Expected Output\n",
    "\n",
    "2 X 1 = 2\n",
    "\n",
    "to\n",
    "\n",
    "2 X 12 = 24"
   ]
  },
  {
   "cell_type": "code",
   "execution_count": null,
   "id": "45055c73",
   "metadata": {},
   "outputs": [],
   "source": [
    "def print_multiples(number):\n",
    "    \"\"\"\n",
    "    Print the first 12 multiples of a given number.\n",
    "\n",
    "    Parameters:\n",
    "    number (int): The number for which to print the multiples.\n",
    "\n",
    "    Returns:\n",
    "    None\n",
    "    \"\"\"\n",
    "    for i in range(1, 13):\n",
    "        print(f\"{number} X {i} = {number * i}\")\n",
    "\n",
    "# Example usage\n",
    "print_multiples(2)\n"
   ]
  },
  {
   "cell_type": "markdown",
   "id": "cd63dd99",
   "metadata": {},
   "source": [
    "### Q17\n",
    "Write a Python function to find the maximum of three numbers.\n",
    "\n",
    "**Do not use the max function**"
   ]
  },
  {
   "cell_type": "code",
   "execution_count": null,
   "id": "81b7c576",
   "metadata": {},
   "outputs": [],
   "source": [
    "def find_max_of_three(a, b, c):\n",
    "    \"\"\"\n",
    "    Find the maximum of three numbers.\n",
    "\n",
    "    Parameters:\n",
    "    a (number): The first number.\n",
    "    b (number): The second number.\n",
    "    c (number): The third number.\n",
    "\n",
    "    Returns:\n",
    "    number: The maximum of the three numbers.\n",
    "    \"\"\"\n",
    "    if a >= b and a >= c:\n",
    "        return a\n",
    "    elif b >= a and b >= c:\n",
    "        return b\n",
    "    else:\n",
    "        return c\n",
    "\n",
    "# Example usage\n",
    "print(find_max_of_three(10, 20, 15))  # Output: 20\n",
    "print(find_max_of_three(4, 4, 2))     # Output: 4\n",
    "print(find_max_of_three(-1, -2, -3))  # Output: -1\n"
   ]
  },
  {
   "cell_type": "markdown",
   "id": "67520c0b",
   "metadata": {},
   "source": [
    "### Q18\n",
    "Write a Python function to multiply all the numbers in a list."
   ]
  },
  {
   "cell_type": "code",
   "execution_count": null,
   "id": "faf90719",
   "metadata": {},
   "outputs": [],
   "source": [
    "def multiply_list(numbers):\n",
    "    \"\"\"\n",
    "    Multiply all the numbers in a list.\n",
    "\n",
    "    Parameters:\n",
    "    numbers (list): A list of numbers.\n",
    "\n",
    "    Returns:\n",
    "    number: The product of all the numbers in the list.\n",
    "    \"\"\"\n",
    "    product = 1\n",
    "    for number in numbers:\n",
    "        product *= number\n",
    "    return product\n",
    "\n",
    "# Example usage\n",
    "numbers = [1, 2, 3, 4, 5]\n",
    "print(multiply_list(numbers))  # Output: 120\n",
    "\n",
    "numbers = [10, 20, 30]\n",
    "print(multiply_list(numbers))  # Output: 6000\n",
    "\n",
    "numbers = [2, 0, 5]\n",
    "print(multiply_list(numbers))  # Output: 0\n"
   ]
  },
  {
   "cell_type": "markdown",
   "id": "05891582",
   "metadata": {},
   "source": [
    "### Q19\n",
    "Write a Python program to reverse a string"
   ]
  },
  {
   "cell_type": "code",
   "execution_count": null,
   "id": "bed53580",
   "metadata": {},
   "outputs": [],
   "source": [
    "def reverse_string(input_string):\n",
    "    \"\"\"\n",
    "    Reverse a given string.\n",
    "\n",
    "    Parameters:\n",
    "    input_string (str): The string to be reversed.\n",
    "\n",
    "    Returns:\n",
    "    str: The reversed string.\n",
    "    \"\"\"\n",
    "    return input_string[::-1]\n",
    "\n",
    "# Example usage\n",
    "original_string = \"Hello, World!\"\n",
    "reversed_string = reverse_string(original_string)\n",
    "print(\"Original string:\", original_string)\n",
    "print(\"Reversed string:\", reversed_string)\n"
   ]
  },
  {
   "cell_type": "markdown",
   "id": "b9025ac8",
   "metadata": {},
   "source": [
    "### Q20\n",
    "Write a python function to return the length of a string."
   ]
  },
  {
   "cell_type": "code",
   "execution_count": null,
   "id": "fbfed368",
   "metadata": {},
   "outputs": [],
   "source": [
    "def string_length(input_string):\n",
    "    \"\"\"\n",
    "    Return the length of a given string.\n",
    "\n",
    "    Parameters:\n",
    "    input_string (str): The string for which to find the length.\n",
    "\n",
    "    Returns:\n",
    "    int: The length of the string.\n",
    "    \"\"\"\n",
    "    return len(input_string)\n",
    "\n",
    "# Example usage\n",
    "string = \"Hello, World!\"\n",
    "print(\"Length of the string:\", string_length(string))\n"
   ]
  },
  {
   "cell_type": "markdown",
   "id": "8d1ee176",
   "metadata": {},
   "source": [
    "Have a lovely coding weekend"
   ]
  }
 ],
 "metadata": {
  "kernelspec": {
   "display_name": "Python 3 (ipykernel)",
   "language": "python",
   "name": "python3"
  },
  "language_info": {
   "codemirror_mode": {
    "name": "ipython",
    "version": 3
   },
   "file_extension": ".py",
   "mimetype": "text/x-python",
   "name": "python",
   "nbconvert_exporter": "python",
   "pygments_lexer": "ipython3",
   "version": "3.10.9"
  }
 },
 "nbformat": 4,
 "nbformat_minor": 5
}
