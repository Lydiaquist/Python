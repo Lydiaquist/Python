{
 "cells": [
  {
   "cell_type": "markdown",
   "id": "3c2e90df",
   "metadata": {},
   "source": [
    "### Q1\n",
    "\n",
    "Name the four built-in data structures in python. Give one example for each"
   ]
  },
  {
   "cell_type": "markdown",
   "id": "cca34f9c",
   "metadata": {},
   "source": [
    "1. Lists eg., list = [5,2,7,4,9]  \n",
    "2. Tuples eg., tuple = ((3,2), (3.9))  \n",
    "3. Sets eg., set = {\"A\", \"B\", \"C\"}  \n",
    "4. Dictionaries eg., dict = {\"A\" : 2, \"B\" : 4, \"C\" : 6}"
   ]
  },
  {
   "cell_type": "markdown",
   "id": "b6e1dd1b",
   "metadata": {},
   "source": [
    "### Q2\n",
    "\n",
    "State two differences between a list and a tuple in Python."
   ]
  },
  {
   "cell_type": "markdown",
   "id": "fcac5069",
   "metadata": {},
   "source": [
    "1. Lists use square brackets[ ] whereas tuples use parentheses().  \n",
    "2. A list is mutable while a tuple is not."
   ]
  },
  {
   "cell_type": "markdown",
   "id": "815b4e67",
   "metadata": {},
   "source": [
    "### Q3\n",
    "Make a list containing names of five animals with a variable name `animal_list`\n",
    "\n",
    "Write a code for the following:\n",
    "- Print the first two animals\n",
    "- Print the last two animals\n",
    "- Add three extra animals to the variable `animal_list`\n",
    "- Remove the first two animals from the variable `animal_list`\n",
    "- How many animals are in the `animal_list`?\n",
    "- Create a variable animal_set which stores the set of animal_list \n",
    "- How many elements are in the animal_set?\n"
   ]
  },
  {
   "cell_type": "code",
   "execution_count": 5,
   "id": "0ef65d6b",
   "metadata": {},
   "outputs": [
    {
     "name": "stdout",
     "output_type": "stream",
     "text": [
      "['snake', 'lion']\n",
      "['frog', 'dog']\n"
     ]
    }
   ],
   "source": [
    "animal_list = [\"snake\", \"lion\", \"cat\", \"frog\", \"dog\"]\n",
    "print(animal_list[0:2])\n",
    "print(animal_list[-2:])"
   ]
  },
  {
   "cell_type": "code",
   "execution_count": 6,
   "id": "ba75498c",
   "metadata": {},
   "outputs": [],
   "source": [
    "animal_list.extend([\"fish\", \"elephant\", \"giraffe\"])"
   ]
  },
  {
   "cell_type": "code",
   "execution_count": 7,
   "id": "48717b3f",
   "metadata": {},
   "outputs": [],
   "source": [
    "animal_list.remove(\"snake\")\n",
    "animal_list.remove(\"lion\")"
   ]
  },
  {
   "cell_type": "code",
   "execution_count": 8,
   "id": "0bcb2462",
   "metadata": {},
   "outputs": [
    {
     "name": "stdout",
     "output_type": "stream",
     "text": [
      "6\n"
     ]
    }
   ],
   "source": [
    "print(len(animal_list))"
   ]
  },
  {
   "cell_type": "code",
   "execution_count": 10,
   "id": "79a88371",
   "metadata": {},
   "outputs": [],
   "source": [
    "animal_set = set(animal_list)"
   ]
  },
  {
   "cell_type": "code",
   "execution_count": 11,
   "id": "c139124d",
   "metadata": {},
   "outputs": [
    {
     "name": "stdout",
     "output_type": "stream",
     "text": [
      "6\n"
     ]
    }
   ],
   "source": [
    "print(len(animal_set))"
   ]
  },
  {
   "cell_type": "markdown",
   "id": "113c9970",
   "metadata": {},
   "source": [
    "### Q4\n",
    "\n",
    "Given a list:\n",
    "\n",
    "suitcase = [\"sunglasses\", \"hat\", \"passport\", \"laptop\", \"suit\", \"shoes\"]\n",
    "\n",
    "a. Create a list called first containing only the two first items from suitcase.\n",
    "\n",
    "b. Create a list called middle containing only the two middle items from suitcase.\n",
    "\n",
    "c. Create a list called last made up only of the last two items from suitcase."
   ]
  },
  {
   "cell_type": "code",
   "execution_count": 12,
   "id": "c7f53c1b",
   "metadata": {},
   "outputs": [],
   "source": [
    "suitcase = [\"sunglasses\", \"hat\", \"passport\", \"laptop\", \"suit\", \"shoes\"]"
   ]
  },
  {
   "cell_type": "code",
   "execution_count": 13,
   "id": "f5775142",
   "metadata": {},
   "outputs": [],
   "source": [
    "first = suitcase[0:2]\n",
    "middle = suitcase[2:4]\n",
    "last = suitcase[-2:]"
   ]
  },
  {
   "cell_type": "markdown",
   "id": "711ba044",
   "metadata": {},
   "source": [
    "### Q5\n",
    "Write a python code to insert 35 into the list below. Make sure it is inserted in the right position to maintain the order of the data.\n",
    "\n",
    "`values = [20,25,30,40,45,50,55,60,65,70]`"
   ]
  },
  {
   "cell_type": "code",
   "execution_count": 14,
   "id": "3c2f5b4b",
   "metadata": {},
   "outputs": [
    {
     "name": "stdout",
     "output_type": "stream",
     "text": [
      "[20, 25, 30, 35, 40, 45, 50, 55, 60, 65, 70]\n"
     ]
    }
   ],
   "source": [
    "values = [20,25,30,40,45,50,55,60,65,70]\n",
    "values.insert(3, 35)\n",
    "print(values)"
   ]
  },
  {
   "cell_type": "markdown",
   "id": "f535cf64",
   "metadata": {},
   "source": [
    "### Q6\n",
    "\n",
    "Given that Python lists and Python tuples are quite similar – when might you prefer to use a tuple over a list?"
   ]
  },
  {
   "cell_type": "markdown",
   "id": "b4b9e828",
   "metadata": {},
   "source": [
    "When you don't want changes to be made"
   ]
  },
  {
   "cell_type": "markdown",
   "id": "346927f6",
   "metadata": {},
   "source": [
    "### Q7\n",
    "Create a dictionary with 5 Ghana regions and their capitals and store it in the variable `region_capital`\n",
    "\n",
    "- Print out the keys of region_capital\n",
    "- Print out the values of region_capital\n"
   ]
  },
  {
   "cell_type": "code",
   "execution_count": 15,
   "id": "08454b53",
   "metadata": {},
   "outputs": [
    {
     "name": "stdout",
     "output_type": "stream",
     "text": [
      "dict_keys(['Greater Accra', 'Ashanti', 'Volta', 'Eastern', 'Oti'])\n",
      "dict_values(['Accra', 'Kumasi', 'Ho', 'Koforidua', 'Dambai'])\n"
     ]
    }
   ],
   "source": [
    "region_capital = {\"Greater Accra\" : \"Accra\", \"Ashanti\" : \"Kumasi\", \"Volta\" : \"Ho\", \"Eastern\" : \"Koforidua\", \"Oti\" : \"Dambai\"}\n",
    "print(region_capital.keys())\n",
    "print(region_capital.values())"
   ]
  },
  {
   "cell_type": "markdown",
   "id": "70526b3b",
   "metadata": {},
   "source": [
    "### Q8\n",
    "\n",
    "`values = [3,4,5,6,3,4,3,5,2,4,2,5,6,1,6]`\n",
    "\n",
    "Using the codes above answer the following questions:\n",
    "- What is the total number of elements in values?\n",
    "- What is the highest occuring number in the values variable?\n",
    "- Convert values into a set and store it into a variable named `values_set`\n",
    "- How many elements are in the variable values_set?\n"
   ]
  },
  {
   "cell_type": "code",
   "execution_count": 16,
   "id": "ba422fe3",
   "metadata": {},
   "outputs": [
    {
     "name": "stdout",
     "output_type": "stream",
     "text": [
      "15\n"
     ]
    }
   ],
   "source": [
    "values = [3,4,5,6,3,4,3,5,2,4,2,5,6,1,6]\n",
    "print(len(values))"
   ]
  },
  {
   "cell_type": "code",
   "execution_count": 17,
   "id": "af813d7f",
   "metadata": {},
   "outputs": [],
   "source": [
    "def find_mode(data):\n",
    "    counts = {}\n",
    "    for i in data:\n",
    "        if i in counts:\n",
    "            counts[i] += 1\n",
    "        else:\n",
    "            counts[i] = 1\n",
    "            \n",
    "    max_count = max(counts.values(), default=0)\n",
    "    modes = [key for key, value in counts.items() if value == max_count]\n",
    "    return modes"
   ]
  },
  {
   "cell_type": "code",
   "execution_count": 18,
   "id": "47452e4f",
   "metadata": {},
   "outputs": [
    {
     "data": {
      "text/plain": [
       "[3, 4, 5, 6]"
      ]
     },
     "execution_count": 18,
     "metadata": {},
     "output_type": "execute_result"
    }
   ],
   "source": [
    "find_mode(values)"
   ]
  },
  {
   "cell_type": "code",
   "execution_count": 19,
   "id": "c73b751b",
   "metadata": {},
   "outputs": [
    {
     "name": "stdout",
     "output_type": "stream",
     "text": [
      "6\n"
     ]
    }
   ],
   "source": [
    "values_set = set(values)\n",
    "print(len(values_set))"
   ]
  },
  {
   "cell_type": "markdown",
   "id": "801d5876",
   "metadata": {},
   "source": [
    "### Q9\n",
    "Write a Python script to print a dictionary where the keys are numbers between 1 and 15 (both included) and the values are the square of the keys."
   ]
  },
  {
   "cell_type": "code",
   "execution_count": 20,
   "id": "973781a8",
   "metadata": {},
   "outputs": [],
   "source": [
    "num_square = {}\n",
    "for i in range(1, 16):\n",
    "    num_square[i] = i ** 2"
   ]
  },
  {
   "cell_type": "code",
   "execution_count": 21,
   "id": "db06576f",
   "metadata": {},
   "outputs": [
    {
     "name": "stdout",
     "output_type": "stream",
     "text": [
      "{1: 1, 2: 4, 3: 9, 4: 16, 5: 25, 6: 36, 7: 49, 8: 64, 9: 81, 10: 100, 11: 121, 12: 144, 13: 169, 14: 196, 15: 225}\n"
     ]
    }
   ],
   "source": [
    "print(num_square)"
   ]
  },
  {
   "cell_type": "markdown",
   "id": "18954e57",
   "metadata": {},
   "source": [
    "### Q10\n",
    "Write a Python program to create a dictionary of keys x, y, and z where each key has as value a list from 11-20, 21-30, and 31-40 respectively. Access the fifth value of each key from the dictionary."
   ]
  },
  {
   "cell_type": "code",
   "execution_count": 22,
   "id": "fec19820",
   "metadata": {},
   "outputs": [],
   "source": [
    "xyz = {\"x\" : list(range(11, 21)), \"y\" : list(range(21, 31)), \"z\" : list(range(31, 41))}"
   ]
  },
  {
   "cell_type": "code",
   "execution_count": 23,
   "id": "0447b3bf",
   "metadata": {},
   "outputs": [
    {
     "data": {
      "text/plain": [
       "{'x': [11, 12, 13, 14, 15, 16, 17, 18, 19, 20],\n",
       " 'y': [21, 22, 23, 24, 25, 26, 27, 28, 29, 30],\n",
       " 'z': [31, 32, 33, 34, 35, 36, 37, 38, 39, 40]}"
      ]
     },
     "execution_count": 23,
     "metadata": {},
     "output_type": "execute_result"
    }
   ],
   "source": [
    "xyz"
   ]
  },
  {
   "cell_type": "code",
   "execution_count": 24,
   "id": "f0f045b2",
   "metadata": {},
   "outputs": [
    {
     "name": "stdout",
     "output_type": "stream",
     "text": [
      "15\n",
      "25\n",
      "35\n"
     ]
    }
   ],
   "source": [
    "print(xyz[\"x\"][4])\n",
    "print(xyz[\"y\"][4])\n",
    "print(xyz[\"z\"][4])"
   ]
  },
  {
   "cell_type": "code",
   "execution_count": null,
   "id": "8a937499-0ec9-462e-99cb-5f7fe6359f13",
   "metadata": {},
   "outputs": [],
   "source": []
  }
 ],
 "metadata": {
  "kernelspec": {
   "display_name": "Python 3 (ipykernel)",
   "language": "python",
   "name": "python3"
  },
  "language_info": {
   "codemirror_mode": {
    "name": "ipython",
    "version": 3
   },
   "file_extension": ".py",
   "mimetype": "text/x-python",
   "name": "python",
   "nbconvert_exporter": "python",
   "pygments_lexer": "ipython3",
   "version": "3.11.7"
  }
 },
 "nbformat": 4,
 "nbformat_minor": 5
}
